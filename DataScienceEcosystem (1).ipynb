{
  "metadata": {
    "language_info": {
      "codemirror_mode": {
        "name": "python",
        "version": 3
      },
      "file_extension": ".py",
      "mimetype": "text/x-python",
      "name": "python",
      "nbconvert_exporter": "python",
      "pygments_lexer": "ipython3",
      "version": "3.8"
    },
    "kernelspec": {
      "name": "python",
      "display_name": "Pyolite",
      "language": "python"
    }
  },
  "nbformat_minor": 4,
  "nbformat": 4,
  "cells": [
    {
      "cell_type": "markdown",
      "source": "# Data Science Tools and Ecosystem\n\n## In this notebook, Data Science Tools and Ecosystem are summarized.",
      "metadata": {}
    },
    {
      "cell_type": "markdown",
      "source": "###The common data science languages include Python, Apache Spark, R, and SQL.",
      "metadata": {}
    },
    {
      "cell_type": "markdown",
      "source": "###Popular data science libraries include matplotlib,scikit-learn, and NumPy (for Python) and tidyverse, dplyr, and ggplot2 for R.",
      "metadata": {}
    },
    {
      "cell_type": "markdown",
      "source": "###Common data science tools include R, Python, and Tableau/PowerBI.",
      "metadata": {}
    },
    {
      "cell_type": "markdown",
      "source": "###Arithmetic expression example: 1 + 1 = 2.",
      "metadata": {}
    },
    {
      "cell_type": "code",
      "source": "x = 5\ny = 4\n4*x+5*y",
      "metadata": {},
      "execution_count": null,
      "outputs": []
    },
    {
      "cell_type": "code",
      "source": "conversion = 1/60\n\"Use hours * the conversion variable above, example:\"\nminutes = 180\nminutes * conversion",
      "metadata": {},
      "execution_count": null,
      "outputs": []
    },
    {
      "cell_type": "markdown",
      "source": "###Objectives: understand the basics and fundamentals for navigating and using Jupyter notebooks.",
      "metadata": {}
    },
    {
      "cell_type": "markdown",
      "source": "###Author: Smoreo",
      "metadata": {}
    },
    {
      "cell_type": "code",
      "source": "",
      "metadata": {},
      "execution_count": null,
      "outputs": []
    }
  ]
}
